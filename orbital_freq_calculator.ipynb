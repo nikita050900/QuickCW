{
 "cells": [
  {
   "cell_type": "code",
   "execution_count": 1,
   "id": "eaa0a509",
   "metadata": {},
   "outputs": [
    {
     "name": "stderr",
     "output_type": "stream",
     "text": [
      "WARNING: AstropyDeprecationWarning: The private astropy._erfa module has been made into its own package, pyerfa, which is a dependency of astropy and can be imported directly using \"import erfa\" [astropy._erfa]\n"
     ]
    }
   ],
   "source": [
    "import numpy as np\n",
    "import enterprise\n",
    "from enterprise.pulsar import Pulsar\n",
    "import enterprise.signals.parameter as parameter\n",
    "from enterprise.signals import utils\n",
    "from enterprise.signals import signal_base\n",
    "from enterprise.signals import selections\n",
    "from enterprise.signals.selections import Selection\n",
    "from enterprise.signals import white_signals\n",
    "from enterprise.signals import gp_signals\n",
    "from enterprise.signals import deterministic_signals\n",
    "import enterprise.constants as const"
   ]
  },
  {
   "cell_type": "code",
   "execution_count": 2,
   "id": "7110af6f",
   "metadata": {},
   "outputs": [
    {
     "name": "stdout",
     "output_type": "stream",
     "text": [
      "6.035826250291229e-08\n"
     ]
    }
   ],
   "source": [
    "#3c66b\n",
    "t = 1.05 #in Years\n",
    "\n",
    "fGW = 2/(t*365.25*24*60*60)\n",
    "print(fGW)"
   ]
  },
  {
   "cell_type": "code",
   "execution_count": 3,
   "id": "27963256",
   "metadata": {},
   "outputs": [
    {
     "name": "stdout",
     "output_type": "stream",
     "text": [
      "5.25507260597495e-09\n"
     ]
    }
   ],
   "source": [
    "#OJ 287\n",
    "t = 12.06 #in Years\n",
    "\n",
    "fGW = 2/(t*365.25*24*60*60)\n",
    "print(fGW)\n"
   ]
  },
  {
   "cell_type": "code",
   "execution_count": 10,
   "id": "3730f9c3",
   "metadata": {},
   "outputs": [
    {
     "name": "stdout",
     "output_type": "stream",
     "text": [
      "3.750069563790408e-09\n"
     ]
    }
   ],
   "source": [
    "#OJ 287\n",
    "t = 16.9 #in Years\n",
    "\n",
    "fGW = 2/(t*365.25*24*60*60)\n",
    "print(fGW)\n"
   ]
  },
  {
   "cell_type": "code",
   "execution_count": 12,
   "id": "188a8c60",
   "metadata": {},
   "outputs": [
    {
     "name": "stdout",
     "output_type": "stream",
     "text": [
      "16.9 3.750069563790408e-09\n",
      "17.2 3.6846613737242964e-09\n",
      "2.24 2.829293554824013e-08\n",
      "1000.0 6.33761756280579e-11\n",
      "12.3 5.1525346039071475e-09\n",
      "16.0 3.961010976753618e-09\n",
      "22.0 2.8807352558208136e-09\n",
      "29.6 2.141087014461416e-09\n",
      "25.0 2.535047025122316e-09\n",
      "10.1 6.2748688740651386e-09\n",
      "9.5 6.671176381900831e-09\n",
      "6.94 9.132013779259063e-09\n",
      "5.8 1.0926926832423778e-08\n",
      "10.5 6.035826250291228e-09\n",
      "26.0 2.4375452164637656e-09\n",
      "2.29 2.767518586378074e-08\n",
      "12.11 5.233375361524187e-09\n",
      "95.0 6.671176381900831e-10\n",
      "40.5 1.5648438426680964e-09\n",
      "24.0 2.6406739845024124e-09\n",
      "1.08 5.868164410005361e-08\n",
      "10.2 6.2133505517703824e-09\n",
      "95000.0 6.671176381900831e-13\n",
      "18000.0 3.520898646003217e-12\n"
     ]
    }
   ],
   "source": [
    "file = np.loadtxt(\"orbital_period.txt\", usecols=0)\n",
    "#print(file[0])\n",
    "for i in file:\n",
    "    fGW = 2/(i*365.25*24*60*60)\n",
    "    print(i, fGW)"
   ]
  },
  {
   "cell_type": "code",
   "execution_count": null,
   "id": "e595e5bf",
   "metadata": {},
   "outputs": [],
   "source": []
  }
 ],
 "metadata": {
  "kernelspec": {
   "display_name": "Python 3",
   "language": "python",
   "name": "python3"
  },
  "language_info": {
   "codemirror_mode": {
    "name": "ipython",
    "version": 3
   },
   "file_extension": ".py",
   "mimetype": "text/x-python",
   "name": "python",
   "nbconvert_exporter": "python",
   "pygments_lexer": "ipython3",
   "version": "3.9.12"
  }
 },
 "nbformat": 4,
 "nbformat_minor": 5
}
